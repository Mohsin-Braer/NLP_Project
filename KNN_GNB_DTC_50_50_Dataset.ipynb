{
  "nbformat": 4,
  "nbformat_minor": 0,
  "metadata": {
    "colab": {
      "provenance": []
    },
    "kernelspec": {
      "name": "python3",
      "display_name": "Python 3"
    },
    "language_info": {
      "name": "python"
    }
  },
  "cells": [
    {
      "cell_type": "code",
      "execution_count": 1,
      "metadata": {
        "id": "hNg1kEdePv6n"
      },
      "outputs": [],
      "source": [
        "from google.colab import drive\n",
        "import numpy as np\n",
        "import pandas as pd\n",
        "from sklearn.neighbors import KNeighborsClassifier\n",
        "from sklearn import tree\n",
        "from sklearn.naive_bayes import GaussianNB\n",
        "from sklearn.model_selection import cross_validate\n",
        "from sklearn import metrics"
      ]
    },
    {
      "cell_type": "markdown",
      "source": [
        "# Mout Drive"
      ],
      "metadata": {
        "id": "Y7LpZ2qJP4Dq"
      }
    },
    {
      "cell_type": "code",
      "source": [
        "drive.mount('/content/drive')\n",
        "!ls /content/drive/MyDrive/escola/nlp"
      ],
      "metadata": {
        "colab": {
          "base_uri": "https://localhost:8080/"
        },
        "id": "kEpgKBWDP5wE",
        "outputId": "452d79f9-fa22-47b6-c14f-1607b944b5ff"
      },
      "execution_count": 2,
      "outputs": [
        {
          "output_type": "stream",
          "name": "stdout",
          "text": [
            "Mounted at /content/drive\n",
            "hatespeech_data_clean_text.csv\thatespeech_data_tokenized.csv\n",
            "hatespeech_data.csv\n"
          ]
        }
      ]
    },
    {
      "cell_type": "markdown",
      "source": [
        "# Format Data"
      ],
      "metadata": {
        "id": "mL8xGPXJU65Z"
      }
    },
    {
      "cell_type": "code",
      "source": [
        "df = pd.read_csv('/content/drive/MyDrive/escola/nlp/hatespeech_data_tokenized.csv').to_numpy()\n",
        "npdata = df[:, 1]\n",
        "nptarget = df[:, -1]"
      ],
      "metadata": {
        "id": "ssiJC7-pU6jA"
      },
      "execution_count": 3,
      "outputs": []
    },
    {
      "cell_type": "code",
      "source": [
        "data = []\n",
        "for i in range(npdata.shape[0]):\n",
        "  s = npdata[i]\n",
        "  s = s[1:-1]\n",
        "  l = s.split(',')\n",
        "  ll = []\n",
        "  for i in l:\n",
        "    ll.append(int(i))\n",
        "  data.append(ll)\n",
        "numpy_array_for_data = np.array(data)\n",
        "print(\"You have \", numpy_array_for_data.shape[0], \"training instances tweets\")\n",
        "print(\"You have \", nptarget.shape[0], \"training instances labels\")\n",
        "print(\"You have \", numpy_array_for_data.shape[1], \"features\")"
      ],
      "metadata": {
        "colab": {
          "base_uri": "https://localhost:8080/"
        },
        "id": "n9Jnl1AqWpnp",
        "outputId": "d63ced6b-f5d5-4c1e-f3fa-ddb3c7df6272"
      },
      "execution_count": 4,
      "outputs": [
        {
          "output_type": "stream",
          "name": "stdout",
          "text": [
            "You have  24783 training instances tweets\n",
            "You have  24783 training instances labels\n",
            "You have  34 features\n"
          ]
        }
      ]
    },
    {
      "cell_type": "code",
      "source": [
        "updated_target = []\n",
        "for i in nptarget:\n",
        "  if i == 0:\n",
        "    updated_target.append(1)\n",
        "  else:\n",
        "    updated_target.append(0)\n",
        "numpy_array_for_target = np.array(updated_target)\n",
        "print(\"You have \", numpy_array_for_target.shape[0], \"training instances labels\")"
      ],
      "metadata": {
        "colab": {
          "base_uri": "https://localhost:8080/"
        },
        "id": "6ppHhwfkRWBT",
        "outputId": "91a0945a-e395-47a5-86e1-26a16a9762ce"
      },
      "execution_count": 5,
      "outputs": [
        {
          "output_type": "stream",
          "name": "stdout",
          "text": [
            "You have  24783 training instances labels\n"
          ]
        }
      ]
    },
    {
      "cell_type": "markdown",
      "source": [
        "# Looking at data"
      ],
      "metadata": {
        "id": "4KGDysupTpQv"
      }
    },
    {
      "cell_type": "code",
      "source": [
        "from IPython.utils.text import num_ini_spaces\n",
        "num_of_ones = 0\n",
        "for i in numpy_array_for_target:\n",
        "  if i == 1:\n",
        "    num_of_ones += 1\n",
        "print(num_of_ones)"
      ],
      "metadata": {
        "colab": {
          "base_uri": "https://localhost:8080/"
        },
        "id": "GaxI1zQDTt6U",
        "outputId": "2f9d4b60-52e9-4442-a5b3-1df0dfb9d381"
      },
      "execution_count": 6,
      "outputs": [
        {
          "output_type": "stream",
          "name": "stdout",
          "text": [
            "1430\n"
          ]
        }
      ]
    },
    {
      "cell_type": "code",
      "source": [
        "print(numpy_array_for_data)\n",
        "print(\" \")\n",
        "print(numpy_array_for_target)"
      ],
      "metadata": {
        "colab": {
          "base_uri": "https://localhost:8080/"
        },
        "id": "fSlggFwQTYaD",
        "outputId": "94bc2771-ed17-40fd-f0f9-8e13f79c4432"
      },
      "execution_count": 16,
      "outputs": [
        {
          "output_type": "stream",
          "name": "stdout",
          "text": [
            "[[    0     0     0 ...     5    52    55]\n",
            " [    0     0     0 ...     5   552   540]\n",
            " [    0     0     0 ...  1082    75    45]\n",
            " ...\n",
            " [    0     0     0 ...   357    30   284]\n",
            " [    0     0     0 ...  1863     7  1348]\n",
            " [    0     0     0 ...   116     2 24202]]\n",
            " \n",
            "[0 0 0 ... 0 0 0]\n"
          ]
        }
      ]
    },
    {
      "cell_type": "markdown",
      "source": [
        "# Making the dataset half 1's half 0's (labels)"
      ],
      "metadata": {
        "id": "z5vwaQZAWePs"
      }
    },
    {
      "cell_type": "code",
      "source": [
        "half_half_data = []\n",
        "half_half_taget = []\n",
        "# ramdomly populate array with 1430 zero labels\n",
        "while len(half_half_data) != 1430:\n",
        "  idx = np.random.randint(0,24783)\n",
        "  if (numpy_array_for_target[idx] == 0):\n",
        "    half_half_data.append(numpy_array_for_data[idx])\n",
        "    half_half_taget.append(numpy_array_for_target[idx])\n",
        "# populate array with the 1 labels\n",
        "for idx in range(24783):\n",
        "  if (numpy_array_for_target[idx] == 1):\n",
        "    half_half_data.append(numpy_array_for_data[idx])\n",
        "    half_half_taget.append(numpy_array_for_target[idx])\n",
        "\n",
        "numpy_half_half_data = np.array(half_half_data)\n",
        "numpy_half_half_target = np.array(half_half_taget)\n",
        "\n",
        "num_of_ones = 0\n",
        "for i in numpy_half_half_target:\n",
        "  if i == 1:\n",
        "    num_of_ones += 1\n",
        "print(num_of_ones / len(numpy_half_half_target))"
      ],
      "metadata": {
        "colab": {
          "base_uri": "https://localhost:8080/"
        },
        "id": "vN--ejilWnAs",
        "outputId": "1b98931f-d1a1-4c28-e570-5b60eaae9e97"
      },
      "execution_count": 8,
      "outputs": [
        {
          "output_type": "stream",
          "name": "stdout",
          "text": [
            "0.5\n"
          ]
        }
      ]
    },
    {
      "cell_type": "markdown",
      "source": [
        "# Naive Bayes, KNN, Decision Tree w original dataset"
      ],
      "metadata": {
        "id": "XzXQp793TCNo"
      }
    },
    {
      "cell_type": "code",
      "source": [
        "scoring_metrics = ['accuracy', 'precision', 'recall', 'f1']\n",
        "gnb = GaussianNB()\n",
        "knn = KNeighborsClassifier()\n",
        "dtc = tree.DecisionTreeClassifier()\n",
        "\n",
        "\n",
        "gnb_scores = cross_validate(gnb, numpy_array_for_data, numpy_array_for_target, cv=5, scoring=scoring_metrics)\n",
        "knn_scores = cross_validate(knn, numpy_array_for_data, numpy_array_for_target, cv=5, scoring=scoring_metrics)\n",
        "dtc_scores = cross_validate(dtc, numpy_array_for_data, numpy_array_for_target, cv=5, scoring=scoring_metrics)\n",
        "\n",
        "print(\"---\", \"Naive Bayes Classifier\", \"---\", '\\n')\n",
        "for score_name, score_value in gnb_scores.items():\n",
        "    print(score_name, np.average(score_value))\n",
        "print('\\n')\n",
        "\n",
        "\n",
        "print(\"---\", \"KNN\", \"---\", '\\n')\n",
        "for score_name, score_value in knn_scores.items():\n",
        "    print(score_name, np.average(score_value))\n",
        "print('\\n')\n",
        "\n",
        "print(\"---\", \"Decision Tree Classifier\", \"---\", '\\n')\n",
        "for score_name, score_value in dtc_scores.items():\n",
        "    print(score_name, np.average(score_value))\n",
        "print('\\n')\n",
        "\n"
      ],
      "metadata": {
        "colab": {
          "base_uri": "https://localhost:8080/"
        },
        "id": "k4TXgxzcbFOv",
        "outputId": "d01e1431-c130-48e8-cccc-6a3a786e602b"
      },
      "execution_count": 27,
      "outputs": [
        {
          "output_type": "stream",
          "name": "stdout",
          "text": [
            "--- Naive Bayes Classifier --- \n",
            "\n",
            "fit_time 0.018632793426513673\n",
            "score_time 0.010388946533203125\n",
            "test_accuracy 0.06988665070046304\n",
            "test_precision 0.05761735678316684\n",
            "test_recall 0.9846153846153847\n",
            "test_f1 0.10886407437220522\n",
            "\n",
            "\n",
            "--- KNN --- \n",
            "\n",
            "fit_time 0.0037104606628417967\n",
            "score_time 2.411840724945068\n",
            "test_accuracy 0.932817509028004\n",
            "test_precision 0.024366226691808088\n",
            "test_recall 0.008391608391608392\n",
            "test_f1 0.012302543507362785\n",
            "\n",
            "\n",
            "--- Decision Tree Classifier --- \n",
            "\n",
            "fit_time 0.5914178848266601\n",
            "score_time 0.008699321746826172\n",
            "test_accuracy 0.8815325113164498\n",
            "test_precision 0.08081870130571518\n",
            "test_recall 0.10209790209790208\n",
            "test_f1 0.089077612797399\n",
            "\n",
            "\n"
          ]
        }
      ]
    },
    {
      "cell_type": "markdown",
      "source": [
        "# Naive Bayes, KNN, Decision Tree w 50/50 Dataset"
      ],
      "metadata": {
        "id": "_Sp5QZefZAca"
      }
    },
    {
      "cell_type": "code",
      "source": [
        "scoring_metrics = ['accuracy', 'precision', 'recall', 'f1']\n",
        "gnb = GaussianNB()\n",
        "knn = KNeighborsClassifier()\n",
        "dtc = tree.DecisionTreeClassifier()\n",
        "\n",
        "\n",
        "gnb_scores = cross_validate(gnb, numpy_half_half_data, numpy_half_half_target, cv=5, scoring=scoring_metrics)\n",
        "knn_scores = cross_validate(knn, numpy_half_half_data, numpy_half_half_target, cv=5, scoring=scoring_metrics)\n",
        "dtc_scores = cross_validate(dtc, numpy_half_half_data, numpy_half_half_target, cv=5, scoring=scoring_metrics)\n",
        "\n",
        "print(\"---\", \"Naive Bayes Classifier\", \"---\", '\\n')\n",
        "for score_name, score_value in gnb_scores.items():\n",
        "    print(score_name, np.average(score_value))\n",
        "print('\\n')\n",
        "\n",
        "\n",
        "print(\"---\", \"KNN\", \"---\", '\\n')\n",
        "for score_name, score_value in knn_scores.items():\n",
        "    print(score_name, np.average(score_value))\n",
        "print('\\n')\n",
        "\n",
        "print(\"---\", \"Decision Tree Classifier\", \"---\", '\\n')\n",
        "for score_name, score_value in dtc_scores.items():\n",
        "    print(score_name, np.average(score_value))\n",
        "print('\\n')"
      ],
      "metadata": {
        "colab": {
          "base_uri": "https://localhost:8080/"
        },
        "id": "frR4qFdXZFQz",
        "outputId": "6b795cb7-05ba-4478-b989-886e762d8391"
      },
      "execution_count": 9,
      "outputs": [
        {
          "output_type": "stream",
          "name": "stdout",
          "text": [
            "--- Naive Bayes Classifier --- \n",
            "\n",
            "fit_time 0.0038385868072509767\n",
            "score_time 0.004550504684448242\n",
            "test_accuracy 0.49790209790209794\n",
            "test_precision 0.4989196843129637\n",
            "test_recall 0.9748251748251748\n",
            "test_f1 0.6599947126209071\n",
            "\n",
            "\n",
            "--- KNN --- \n",
            "\n",
            "fit_time 0.0017494678497314454\n",
            "score_time 0.06835951805114746\n",
            "test_accuracy 0.47622377622377626\n",
            "test_precision 0.47295662811035977\n",
            "test_recall 0.4370629370629371\n",
            "test_f1 0.45347060147602997\n",
            "\n",
            "\n",
            "--- Decision Tree Classifier --- \n",
            "\n",
            "fit_time 0.041885662078857425\n",
            "score_time 0.0042381763458251955\n",
            "test_accuracy 0.526923076923077\n",
            "test_precision 0.527391095492376\n",
            "test_recall 0.5132867132867134\n",
            "test_f1 0.5198652733011093\n",
            "\n",
            "\n"
          ]
        }
      ]
    }
  ]
}